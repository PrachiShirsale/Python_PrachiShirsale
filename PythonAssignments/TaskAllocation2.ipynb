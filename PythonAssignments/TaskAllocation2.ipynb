{
 "cells": [
  {
   "cell_type": "code",
   "execution_count": null,
   "metadata": {},
   "outputs": [],
   "source": [
    "# User will enter the start date and end date. Ask user to enter the task to be done on weekdays.If it is weekend then no task should be allotted. \n",
    "\n",
    "from datetime import date, datetime, timedelta\n",
    "\n",
    "startDate = input(\"Enter  Start Date YYYY-MM-DD : \")\n",
    "endDate = input(\"Enter  End Date YYYY-MM-DD : \")\n",
    "\n",
    "def TaksAllocation(SD , ED):\n",
    " '''\n",
    " According to start and End Dates entered by the user, tasks are allocated for each day according to \n",
    " '''\n",
    " try:\n",
    "   startDate = datetime.strptime(startDate, \"%Y-%m-%d\")\n",
    "   endDate = datetime.strptime(endDate, \"%Y-%m-%d\")\n",
    "\n",
    "   currentDate = startDate\n",
    "   while currentDate <= endDate:\n",
    "          if currentDate.weekday() < 5 :\n",
    "             task = input(f\"Enter The Tasks for {currentDate.strftime('%Y-%m-%d')} : \")\n",
    "             print(f\"Task for : {currentDate.strftime('%Y-%m-%d')} is : {task} \")\n",
    "          else : \n",
    "             print(\"No Tasks will be allocated\")\n",
    "          currentDate += timedelta(days=1)    \n",
    " except:\n",
    "    print(\"Unknown error \")\n",
    "\n",
    "TaksAllocation(startDate , endDate)\n",
    "        "
   ]
  }
 ],
 "metadata": {
  "language_info": {
   "name": "python"
  }
 },
 "nbformat": 4,
 "nbformat_minor": 2
}
