{
 "cells": [
  {
   "cell_type": "code",
   "execution_count": 15,
   "metadata": {},
   "outputs": [
    {
     "name": "stdout",
     "output_type": "stream",
     "text": [
      "Integer List: [2222223]\n",
      "String DataType List: ['prachi', 'sdbj', 'jf']\n",
      "List's List : ['1,2,3,4']\n"
     ]
    }
   ],
   "source": [
    "DTList = input(\"Enter the elements\").split()\n",
    "\n",
    "integerList = []\n",
    "StringList = []\n",
    "ListDataType = []\n",
    "  \n",
    "if len(DTList) > 0:\n",
    "    for item in DTList:\n",
    "      if item.isdigit(): \n",
    "        integerList.append(int(item))  \n",
    "      elif item.isalpha():\n",
    "        StringList.append(item)\n",
    "      elif ',' in item and len(item) > 1:\n",
    "         ListDataType.append(item)\n",
    "    \n",
    "    print(\"Integer List:\", integerList)\n",
    "    print(\"String DataType List:\", StringList)\n",
    "    print(\"List's List :\" , ListDataType)\n",
    "\n",
    "     "
   ]
  }
 ],
 "metadata": {
  "kernelspec": {
   "display_name": "Python 3",
   "language": "python",
   "name": "python3"
  },
  "language_info": {
   "codemirror_mode": {
    "name": "ipython",
    "version": 3
   },
   "file_extension": ".py",
   "mimetype": "text/x-python",
   "name": "python",
   "nbconvert_exporter": "python",
   "pygments_lexer": "ipython3",
   "version": "3.12.6"
  }
 },
 "nbformat": 4,
 "nbformat_minor": 2
}
