{
   "cells": [
      {
         "cell_type": "code",
         "execution_count": 2,
         "metadata": {},
         "outputs": [
            {
               "name": "stdout",
               "output_type": "stream",
               "text": [
                  "Your age is 22\n"
               ]
            }
         ],
         "source": [
            "# Date_of_Birth (age - Auto - Generated from DOB)\n",
            "from datetime import datetime \n",
            "birthDate = input(\"Enter Date (YYYY-MM-DD) : \")\n",
            "\n",
            "def AgeCalculator():\n",
            "  '''\n",
            "  Calculates age from Date of Birth\n",
            "  '''\n",
            "  date = datetime.strptime(birthDate,\"%Y-%m-%d\")\n",
            "  if date <= date.today():\n",
            "   curr_year = datetime.today().year\n",
            "   DOB = date \n",
            "   year = DOB.year\n",
            "   age =  (curr_year - year)-1\n",
            "   print(f\"Your age is {age}\")\n",
            "\n",
            "AgeCalculator()"
         ]
      }
   ],
   "metadata": {
      "kernelspec": {
         "display_name": "Python 3",
         "language": "python",
         "name": "python3"
      },
      "language_info": {
         "codemirror_mode": {
            "name": "ipython",
            "version": 3
         },
         "file_extension": ".py",
         "mimetype": "text/x-python",
         "name": "python",
         "nbconvert_exporter": "python",
         "pygments_lexer": "ipython3",
         "version": "3.12.6"
      }
   },
   "nbformat": 4,
   "nbformat_minor": 2
}
